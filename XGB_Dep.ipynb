# supresses future warnings 
import warnings                                                 
warnings.simplefilter(action='ignore')

# Import the pandas library for df creation
import pandas as pd

# Import the NumPy library to use the random package
import numpy as np
import math

# Import the matplotlib library for plotting
import matplotlib.pyplot as plt

# set plot style
plt.style.use('seaborn-whitegrid')

# Use the magic function to ensure plots render in a notebook
%matplotlib inline

# Import the seaborn library for plotting
import seaborn as sns

from sklearn.metrics import confusion_matrix, recall_score, precision_score, accuracy_score, precision_recall_curve, auc

from datetime import datetime

# from shutil import copyfile

import pickle

import shutil

import datetime

from datetime import timedelta

from datetime import datetime

import plotly.express as px

import scipy.stats as ss

import warnings

# from causalnex.structure import StructureModel

warnings.simplefilter(action='ignore')

from pyspark.sql.functions import date_format

from sklearn.model_selection import cross_val_score, train_test_split

from sklearn.preprocessing import StandardScaler

from sklearn.pipeline import Pipeline, FeatureUnion, make_pipeline

from sklearn.feature_extraction.text import TfidfVectorizer

from sklearn.cluster import MiniBatchKMeans

from transformers import pipeline
import torch
import torch.nn.functional as F
import torchtext
import time
import gzip
import transformers
from transformers import DistilBertTokenizerFast
from transformers import DistilBertForSequenceClassification
